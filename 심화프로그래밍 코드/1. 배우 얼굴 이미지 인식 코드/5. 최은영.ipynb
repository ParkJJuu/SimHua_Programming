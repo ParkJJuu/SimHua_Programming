{
  "nbformat": 4,
  "nbformat_minor": 0,
  "metadata": {
    "colab": {
      "provenance": []
    },
    "kernelspec": {
      "name": "python3",
      "display_name": "Python 3"
    },
    "language_info": {
      "name": "python"
    }
  },
  "cells": [
    {
      "cell_type": "code",
      "execution_count": null,
      "metadata": {
        "id": "3XqxEKuZES3d"
      },
      "outputs": [],
      "source": [
        "query = '윤아'\n",
        "downloader.download(query, limit=60,  output_dir='./', adult_filter_off=True, force_replace=False, timeout=60)\n",
        "dataset_split(query, 40)"
      ]
    },
    {
      "cell_type": "code",
      "source": [
        "query = '한지민'\n",
        "downloader.download(query, limit=60,  output_dir='./', adult_filter_off=True, force_replace=False, timeout=60)\n",
        "dataset_split(query, 40)"
      ],
      "metadata": {
        "id": "QwUSatuiEi60"
      },
      "execution_count": null,
      "outputs": []
    },
    {
      "cell_type": "code",
      "source": [
        "query = '이동욱'\n",
        "downloader.download(query, limit=60,  output_dir='./', adult_filter_off=True, force_replace=False, timeout=60)\n",
        "dataset_split(query, 40)"
      ],
      "metadata": {
        "id": "freYRqvoFJac"
      },
      "execution_count": null,
      "outputs": []
    },
    {
      "cell_type": "code",
      "source": [
        "query = '강하늘'\n",
        "downloader.download(query, limit=60,  output_dir='./', adult_filter_off=True, force_replace=False, timeout=60)\n",
        "dataset_split(query, 40)"
      ],
      "metadata": {
        "id": "jPRlsFRNFLv4"
      },
      "execution_count": null,
      "outputs": []
    },
    {
      "cell_type": "code",
      "source": [
        "query = '이광수'\n",
        "downloader.download(query, limit=60,  output_dir='./', adult_filter_off=True, force_replace=False, timeout=60)\n",
        "dataset_split(query, 40)"
      ],
      "metadata": {
        "id": "gbKhLTS4FOct"
      },
      "execution_count": null,
      "outputs": []
    },
    {
      "cell_type": "code",
      "source": [
        "query = '서강준'\n",
        "downloader.download(query, limit=60,  output_dir='./', adult_filter_off=True, force_replace=False, timeout=60)\n",
        "dataset_split(query, 40)"
      ],
      "metadata": {
        "id": "l31h7Gt7FQU0"
      },
      "execution_count": null,
      "outputs": []
    }
  ]
}